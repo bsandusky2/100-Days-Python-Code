{
 "cells": [
  {
   "cell_type": "code",
   "execution_count": 5,
   "metadata": {},
   "outputs": [],
   "source": [
    "#Number Guessing Game Objectives:\n",
    "\n",
    "# Include an ASCII art logo.\n",
    "# Allow the player to submit a guess for a number between 1 and 100.\n",
    "# Check user's guess against actual answer. Print \"Too high.\" or \"Too low.\" depending on the user's answer. \n",
    "# If they got the answer correct, show the actual answer to the player.\n",
    "# Track the number of turns remaining.\n",
    "# If they run out of turns, provide feedback to the player. \n",
    "# Include two different difficulty levels (e.g., 10 guesses in easy mode, only 5 guesses in hard mode).\n",
    "\n",
    "import random\n",
    "\n",
    "number = random.randint(1,100) #Genrate the intitial random number\n",
    "not_over = True #Initialize boolean to track game status\n",
    "turns = 0 #initialize counter\n",
    "max_turns = 5\n"
   ]
  },
  {
   "cell_type": "code",
   "execution_count": 6,
   "metadata": {},
   "outputs": [],
   "source": [
    "#Function to compare the user guess to user\n",
    "def compare():\n",
    "  global turns\n",
    "  global not_over\n",
    "  playerGuess = int(input(\"Guess a number between 1 and 100: \"))\n",
    "  if playerGuess == number:\n",
    "    not_over == False\n",
    "    return not_over\n",
    "  elif playerGuess > number:\n",
    "    return print(\"Too High, Guess Again\")\n",
    "  else:\n",
    "    return print(\"Too Low, Guess Again\")\n"
   ]
  },
  {
   "cell_type": "code",
   "execution_count": 7,
   "metadata": {},
   "outputs": [],
   "source": [
    "def game(): # Set default number of maximum turns\n",
    "  global turns\n",
    "  global not_over\n",
    "  global max_turns\n",
    "  while not_over == True: #While game still continues, compare guesses\n",
    "    compare()\n",
    "    turns+=1 # Count number of turns\n",
    "    if turns >= max_turns:\n",
    "      not_over == False #End game if guesses exceeds max turns\n",
    "      return not_over"
   ]
  },
  {
   "cell_type": "code",
   "execution_count": null,
   "metadata": {},
   "outputs": [],
   "source": [
    "#Play Game\n",
    "#from art import logo\n",
    "#print(logo)\n",
    "game()\n",
    "if turns >= max_turns:\n",
    "    print(\"You are out of turns\")\n",
    "else:\n",
    "  print(\"You won!\")"
   ]
  },
  {
   "cell_type": "code",
   "execution_count": null,
   "metadata": {},
   "outputs": [],
   "source": []
  }
 ],
 "metadata": {
  "kernelspec": {
   "display_name": "Python 3",
   "language": "python",
   "name": "python3"
  },
  "language_info": {
   "codemirror_mode": {
    "name": "ipython",
    "version": 3
   },
   "file_extension": ".py",
   "mimetype": "text/x-python",
   "name": "python",
   "nbconvert_exporter": "python",
   "pygments_lexer": "ipython3",
   "version": "3.8.5"
  }
 },
 "nbformat": 4,
 "nbformat_minor": 4
}
