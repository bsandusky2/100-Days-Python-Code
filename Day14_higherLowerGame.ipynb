{
 "cells": [
  {
   "cell_type": "code",
   "execution_count": null,
   "metadata": {},
   "outputs": [],
   "source": [
    "from game_data import data\n",
    "from art import logo\n",
    "from art import vs\n",
    "from random import randint\n",
    "#Initialize Variables\n",
    "counter = 0\n",
    "A=0\n",
    "B=0\n",
    "game_continue = True\n",
    "#Print Game Logo\n",
    "print(logo)\n",
    "\n",
    "#Compare player scores\n",
    "#If user guesses correct, add 1 to score \n",
    "#Otherwise end the game\n",
    "def compare(p1_follow,p2_follow,guess):\n",
    "  global counter\n",
    "  global game_continue\n",
    "  if p1_follow>p2_follow and guess == \"A\":\n",
    "    counter += 1\n",
    "  elif  p2_follow > p1_follow and guess == \"B\":\n",
    "    counter += 1\n",
    "  else:\n",
    "    game_continue = False\n",
    "    return game_continue\n",
    "\n",
    "#After people are selected, remove them from the list so they\n",
    "#arent chosen again\n",
    "def dict_remove(dict,p1,p2,x):\n",
    "  global int1\n",
    "  global int2\n",
    "  if p1>p2 and x == \"A\":\n",
    "    return dict[-int2]\n",
    "  else:\n",
    "    return dict[-int1]\n",
    "\n"
   ]
  },
  {
   "cell_type": "code",
   "execution_count": null,
   "metadata": {},
   "outputs": [],
   "source": [
    "#While the user keeps guessing correctly\n",
    "while game_continue:\n",
    "  #if statement to only choose random number to replace person with less followers\n",
    "  if B>A: \n",
    "    int1 = randint(0,len(data)-1)\n",
    "  elif A>B:\n",
    "    int2 = randint(0,len(data)-1)\n",
    "  else:\n",
    "    int1 = randint(0,len(data)-1)\n",
    "    int2 = randint(0,len(data)-1)\n",
    "  #If ststement to avoid choosing same person twice\n",
    "  if int1==int2:\n",
    "    int2 = randint(0,len(data)-1)\n",
    "  #Show the user the 2 people and descriptions of them\n",
    "  print(f\"compare A:{data[int1]['name']},{data[int1]['description']}, from {data[int1]['country']}\")\n",
    "  print(vs)\n",
    "  print(f\"compare B:{data[int2]['name']},{data[int2]['description']}, from {data[int2]['country']}\")\n",
    "  #Store the follower counts in A and B\n",
    "  A = data[int1]['follower_count']\n",
    "  B = data[int2]['follower_count']\n",
    "  #Get user guess\n",
    "  x = input(\"Who has more followers: type 'A' or 'B'\")\n",
    "  #Compare guess and either increase count or end game\n",
    "  compare(A,B,x)\n",
    "  #remove person from dictionary\n",
    "  dict_remove(data,A,B,x)\n",
    "  #Show the follower counts and user score\n",
    "  print(f\"{data[int1]['name']},{data[int1]['follower_count']}\")\n",
    "  print(f\"{data[int2]['name']},{data[int2]['follower_count']}\")\n",
    "  print(f\"Your score is {counter}\")"
   ]
  }
 ],
 "metadata": {
  "kernelspec": {
   "display_name": "Python 3",
   "language": "python",
   "name": "python3"
  },
  "language_info": {
   "codemirror_mode": {
    "name": "ipython",
    "version": 3
   },
   "file_extension": ".py",
   "mimetype": "text/x-python",
   "name": "python",
   "nbconvert_exporter": "python",
   "pygments_lexer": "ipython3",
   "version": "3.8.5"
  }
 },
 "nbformat": 4,
 "nbformat_minor": 4
}
