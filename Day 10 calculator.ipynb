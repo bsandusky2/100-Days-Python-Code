{
 "cells": [
  {
   "cell_type": "code",
   "execution_count": 1,
   "metadata": {},
   "outputs": [],
   "source": [
    "#Add functions for Calculator\n",
    "def add(n1,n2):\n",
    "  return n1 + n2\n",
    "\n",
    "def subtract(n1,n2):\n",
    "  return n1 - n2\n",
    "\n",
    "def multiply(n1,n2):\n",
    "  return n1 * n2\n",
    "\n",
    "def divide(n1,n2):\n",
    "  return n1 / n2\n"
   ]
  },
  {
   "cell_type": "code",
   "execution_count": 4,
   "metadata": {},
   "outputs": [],
   "source": [
    "#Define Operations Calculator Can use\n",
    "operations = {\n",
    "  \"+\":add,\n",
    "  \"-\":subtract,\n",
    "  \"*\":multiply,\n",
    "  \"/\":divide,\n",
    "  }"
   ]
  },
  {
   "cell_type": "code",
   "execution_count": 5,
   "metadata": {},
   "outputs": [],
   "source": [
    "#Create calculator Function to take user input\n",
    "def calculator():\n",
    "  num1 = float(input(\"What's the first number?:\"))\n",
    "\n",
    "  for symbol in operations:\n",
    "    print(symbol)\n",
    "  should_continue = True\n",
    "\n",
    "  while should_continue:\n",
    "    operation_symbol = input(\"Pick an operation: \")\n",
    "    num2 = float(input(\"What's the next number?:\"))\n",
    "    calc_function = operations[operation_symbol]\n",
    "    answer = calc_function(num1,num2)\n",
    "    print(f\"{num1}{operation_symbol}{num2} = {answer}\")\n",
    "    if input(f\"Type 'y' to continue with  {answer}, or type 'n' to start new calculation: \") ==\"y\":\n",
    "      num1 = answer\n",
    "    else:\n",
    "      should_continue=False\n",
    "      calculator()"
   ]
  },
  {
   "cell_type": "code",
   "execution_count": null,
   "metadata": {},
   "outputs": [
    {
     "name": "stdout",
     "output_type": "stream",
     "text": [
      "What's the first number?:10\n",
      "+\n",
      "-\n",
      "*\n",
      "/\n",
      "Pick an operation: +\n",
      "What's the next number?:5\n",
      "10.0+5.0 = 15.0\n"
     ]
    }
   ],
   "source": [
    "calculator()"
   ]
  },
  {
   "cell_type": "code",
   "execution_count": null,
   "metadata": {},
   "outputs": [],
   "source": []
  }
 ],
 "metadata": {
  "kernelspec": {
   "display_name": "Python 3",
   "language": "python",
   "name": "python3"
  },
  "language_info": {
   "codemirror_mode": {
    "name": "ipython",
    "version": 3
   },
   "file_extension": ".py",
   "mimetype": "text/x-python",
   "name": "python",
   "nbconvert_exporter": "python",
   "pygments_lexer": "ipython3",
   "version": "3.8.5"
  }
 },
 "nbformat": 4,
 "nbformat_minor": 4
}
